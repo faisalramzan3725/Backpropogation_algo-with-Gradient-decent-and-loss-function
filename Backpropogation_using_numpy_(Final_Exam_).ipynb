{
  "nbformat": 4,
  "nbformat_minor": 0,
  "metadata": {
    "colab": {
      "name": "Backpropogation using numpy (Final Exam ).ipynb",
      "provenance": [],
      "collapsed_sections": []
    },
    "kernelspec": {
      "name": "python3",
      "display_name": "Python 3"
    },
    "language_info": {
      "name": "python"
    }
  },
  "cells": [
    {
      "cell_type": "markdown",
      "metadata": {
        "id": "4T4a9tYSsiJt"
      },
      "source": [
        "Feedforward and backward\n",
        "---\n"
      ]
    },
    {
      "cell_type": "code",
      "metadata": {
        "id": "RNoUeK9Eshdu"
      },
      "source": [
        "import numpy as np\n",
        "import pandas as pd\n",
        "\n",
        "#import matplotlib.pyplot as plt\n",
        "#import seaborn as sns\n",
        "\n",
        "#sns.set_style(\"darkgrid\")\n",
        "#%matplotlib inline"
      ],
      "execution_count": 274,
      "outputs": []
    },
    {
      "cell_type": "code",
      "metadata": {
        "colab": {
          "base_uri": "https://localhost:8080/",
          "height": 142
        },
        "id": "r13YFhVmsxSl",
        "outputId": "9230a5fe-e246-4530-c904-8045f3ff2cb9"
      },
      "source": [
        "df = pd.read_csv(\"https://archive.ics.uci.edu/ml/machine-learning-databases/iris/iris.data\",names=['sepal_length','sepal_width','petal_length','petal_width','result'], header=None)\n",
        "df = df.iloc[[1, 51, 101]]\n",
        "df"
      ],
      "execution_count": 275,
      "outputs": [
        {
          "output_type": "execute_result",
          "data": {
            "text/html": [
              "<div>\n",
              "<style scoped>\n",
              "    .dataframe tbody tr th:only-of-type {\n",
              "        vertical-align: middle;\n",
              "    }\n",
              "\n",
              "    .dataframe tbody tr th {\n",
              "        vertical-align: top;\n",
              "    }\n",
              "\n",
              "    .dataframe thead th {\n",
              "        text-align: right;\n",
              "    }\n",
              "</style>\n",
              "<table border=\"1\" class=\"dataframe\">\n",
              "  <thead>\n",
              "    <tr style=\"text-align: right;\">\n",
              "      <th></th>\n",
              "      <th>sepal_length</th>\n",
              "      <th>sepal_width</th>\n",
              "      <th>petal_length</th>\n",
              "      <th>petal_width</th>\n",
              "      <th>result</th>\n",
              "    </tr>\n",
              "  </thead>\n",
              "  <tbody>\n",
              "    <tr>\n",
              "      <th>1</th>\n",
              "      <td>4.9</td>\n",
              "      <td>3.0</td>\n",
              "      <td>1.4</td>\n",
              "      <td>0.2</td>\n",
              "      <td>Iris-setosa</td>\n",
              "    </tr>\n",
              "    <tr>\n",
              "      <th>51</th>\n",
              "      <td>6.4</td>\n",
              "      <td>3.2</td>\n",
              "      <td>4.5</td>\n",
              "      <td>1.5</td>\n",
              "      <td>Iris-versicolor</td>\n",
              "    </tr>\n",
              "    <tr>\n",
              "      <th>101</th>\n",
              "      <td>5.8</td>\n",
              "      <td>2.7</td>\n",
              "      <td>5.1</td>\n",
              "      <td>1.9</td>\n",
              "      <td>Iris-virginica</td>\n",
              "    </tr>\n",
              "  </tbody>\n",
              "</table>\n",
              "</div>"
            ],
            "text/plain": [
              "     sepal_length  sepal_width  petal_length  petal_width           result\n",
              "1             4.9          3.0           1.4          0.2      Iris-setosa\n",
              "51            6.4          3.2           4.5          1.5  Iris-versicolor\n",
              "101           5.8          2.7           5.1          1.9   Iris-virginica"
            ]
          },
          "metadata": {
            "tags": []
          },
          "execution_count": 275
        }
      ]
    },
    {
      "cell_type": "markdown",
      "metadata": {
        "id": "pQ4zG27N7zyY"
      },
      "source": [
        "Data preparation:\n",
        "---"
      ]
    },
    {
      "cell_type": "code",
      "metadata": {
        "id": "DbQoQaz8szsk",
        "colab": {
          "base_uri": "https://localhost:8080/"
        },
        "outputId": "c02ef8d0-691c-4a2e-bc55-0d714e895c39"
      },
      "source": [
        "# one-hot encoding\n",
        "y = pd.get_dummies(df.result).values\n",
        "\n",
        "N = y.size\n",
        "\n",
        "x = df.drop([\"result\"], axis=1).values\n",
        "\n",
        "print(\"Shape of the output value: \\n\\n\",y.shape)\n",
        "print(\"\\nOne hot encoding Output\\n\\n \",y)\n",
        "\n",
        "print(\"\\n\\n Size of N\",N)\n",
        "\n",
        "print(\"\\n Labeled Feature\",x)"
      ],
      "execution_count": 277,
      "outputs": [
        {
          "output_type": "stream",
          "text": [
            "Shape of the output value: \n",
            "\n",
            " (3, 3)\n",
            "\n",
            "One hot encoding Output\n",
            "\n",
            "  [[1 0 0]\n",
            " [0 1 0]\n",
            " [0 0 1]]\n",
            "\n",
            "\n",
            " Size of N 9\n",
            "\n",
            " Labeled Feature [[4.9 3.  1.4 0.2]\n",
            " [6.4 3.2 4.5 1.5]\n",
            " [5.8 2.7 5.1 1.9]]\n"
          ],
          "name": "stdout"
        }
      ]
    },
    {
      "cell_type": "markdown",
      "metadata": {
        "id": "9fwHNrpp79R1"
      },
      "source": [
        "Activation Function:\n",
        "---"
      ]
    },
    {
      "cell_type": "markdown",
      "metadata": {
        "id": "ODKHVyn57_of"
      },
      "source": [
        ""
      ]
    },
    {
      "cell_type": "code",
      "metadata": {
        "id": "flaD0LfovEU0"
      },
      "source": [
        "def sigmoid(x):\n",
        "    return 1 / (1 + np.exp(-x))"
      ],
      "execution_count": 278,
      "outputs": []
    },
    {
      "cell_type": "markdown",
      "metadata": {
        "id": "vurbzQBA8AaA"
      },
      "source": [
        "\n",
        "Hyperparameters:\n",
        "---\n"
      ]
    },
    {
      "cell_type": "code",
      "metadata": {
        "id": "PxFJxxzbvrBf"
      },
      "source": [
        "learning_rate = 0.1\n",
        "n_input = 4\n",
        "n_hidden = 2\n",
        "n_output = 3"
      ],
      "execution_count": 279,
      "outputs": []
    },
    {
      "cell_type": "code",
      "metadata": {
        "id": "1LWUbBSNvwlt",
        "colab": {
          "base_uri": "https://localhost:8080/"
        },
        "outputId": "7053812a-42f1-48c1-e7d4-2b011f45225f"
      },
      "source": [
        "np.random.seed(10)\n",
        "\n",
        "weights_1 = np.random.normal(scale=0.5, size=(n_input, n_hidden))   # (4, 2)\n",
        "weights_2 = np.random.normal(scale=0.5, size=(n_hidden, n_output))  # (2, 3)\n",
        "print(weights_1)\n",
        "print(\"\")\n",
        "print(weights_2)"
      ],
      "execution_count": 280,
      "outputs": [
        {
          "output_type": "stream",
          "text": [
            "[[ 0.66579325  0.35763949]\n",
            " [-0.77270015 -0.00419192]\n",
            " [ 0.31066799 -0.36004278]\n",
            " [ 0.13275579  0.05427426]]\n",
            "\n",
            "[[ 0.00214572 -0.08730011  0.21651309]\n",
            " [ 0.60151869 -0.48253284  0.51413704]]\n"
          ],
          "name": "stdout"
        }
      ]
    },
    {
      "cell_type": "markdown",
      "metadata": {
        "id": "5Elof_328HC2"
      },
      "source": [
        "Feedforward:\n",
        "---"
      ]
    },
    {
      "cell_type": "code",
      "metadata": {
        "id": "RkTY_PGb63ar"
      },
      "source": [
        "#Feedforward and Backpropagation\n",
        "#In [7]:\n",
        "# feedforward\n",
        "hidden_layer_inputs = np.dot(x, weights_1)\n",
        "hidden_layer_outputs = sigmoid(hidden_layer_inputs)\n",
        "\n",
        "output_layer_inputs = np.dot(hidden_layer_outputs, weights_2)\n",
        "output_layer_outputs = sigmoid(output_layer_inputs)\n"
      ],
      "execution_count": 281,
      "outputs": []
    },
    {
      "cell_type": "markdown",
      "metadata": {
        "id": "IjMZ4nTK8NFC"
      },
      "source": [
        "Backpropagation:\n",
        "---"
      ]
    },
    {
      "cell_type": "code",
      "metadata": {
        "id": "9-hIWhfDvxZC"
      },
      "source": [
        "output_layer_error = output_layer_outputs - y\n",
        "# backpropagation: here we can calculate the error on output layer and also on the hidden layer.\n",
        "output_layer_delta = output_layer_error * output_layer_outputs * (1 - output_layer_outputs)\n",
        "# T show the transpose of weights and inputs as per used with any term\n",
        "hidden_layer_error = np.dot(output_layer_delta, weights_2.T)\n",
        "hidden_layer_delta = hidden_layer_error * hidden_layer_outputs * (1 - hidden_layer_outputs)"
      ],
      "execution_count": 282,
      "outputs": []
    },
    {
      "cell_type": "markdown",
      "metadata": {
        "id": "OFP7F5g9BNfD"
      },
      "source": [
        "Weights updated:\n",
        "---"
      ]
    },
    {
      "cell_type": "code",
      "metadata": {
        "id": "B61-14y-BQea",
        "colab": {
          "base_uri": "https://localhost:8080/"
        },
        "outputId": "ab8ce9bb-bfa6-4372-c89d-7e39eff170d6"
      },
      "source": [
        "# weight updates w r t MSE\n",
        "weights_2_update = np.dot(hidden_layer_outputs.T, output_layer_delta) / N\n",
        "weights_1_update = np.dot(x.T, hidden_layer_delta) / N\n",
        "\n",
        "#update w r t Gradient decent apporach\n",
        "# this is single step that is used to update the parameter but we need to do more steps the can give result a very close value to zero or small value.\n",
        "weights_2 = weights_2 - learning_rate * weights_2_update\n",
        "weights_1 = weights_1 - learning_rate * weights_1_update\n",
        "print(weights_2)\n",
        "print(\"\")\n",
        "print(weights_1)"
      ],
      "execution_count": 283,
      "outputs": [
        {
          "output_type": "stream",
          "text": [
            "[[-1.29660239e-04 -8.76520240e-02  2.14566926e-01]\n",
            " [ 6.00302339e-01 -4.82892185e-01  5.12326972e-01]]\n",
            "\n",
            "[[ 0.66553432  0.3543703 ]\n",
            " [-0.77285398 -0.00580523]\n",
            " [ 0.31057873 -0.36241503]\n",
            " [ 0.13273866  0.05347525]]\n"
          ],
          "name": "stdout"
        }
      ]
    },
    {
      "cell_type": "markdown",
      "metadata": {
        "id": "3KtCyXP58PNF"
      },
      "source": [
        "Mean Saqure Error before weight update:\n",
        "---"
      ]
    },
    {
      "cell_type": "code",
      "metadata": {
        "colab": {
          "base_uri": "https://localhost:8080/"
        },
        "id": "-030t2VmL0Sn",
        "outputId": "d0ed6ec5-aadc-4886-c1ed-d9e0853ffb50"
      },
      "source": [
        "mse = ((output_layer_outputs - y)**2).sum() / (2*N)\n",
        "mse"
      ],
      "execution_count": 284,
      "outputs": [
        {
          "output_type": "execute_result",
          "data": {
            "text/plain": [
              "0.13831126800831411"
            ]
          },
          "metadata": {
            "tags": []
          },
          "execution_count": 284
        }
      ]
    },
    {
      "cell_type": "markdown",
      "metadata": {
        "id": "IaK-nuVB8SvS"
      },
      "source": [
        "Mean Saqure Error after updated weights:\n",
        "---"
      ]
    },
    {
      "cell_type": "code",
      "metadata": {
        "colab": {
          "base_uri": "https://localhost:8080/"
        },
        "id": "gut5QeAkL59O",
        "outputId": "97e62221-1689-4dfe-92ea-2928e3132bf8"
      },
      "source": [
        "#MSE after weights are updated\n",
        "# after updated weight we can predict the model again and check the mse if it reduced then it will work\n",
        "# feedforward\n",
        "hidden_layer_inputs = np.dot(x, weights_1)\n",
        "hidden_layer_outputs = sigmoid(hidden_layer_inputs)\n",
        "\n",
        "output_layer_inputs = np.dot(hidden_layer_outputs, weights_2)\n",
        "output_layer_outputs = sigmoid(output_layer_inputs)\n",
        "\n",
        "mse = ((output_layer_outputs - y)**2).sum() / (2*N)\n",
        "mse"
      ],
      "execution_count": 285,
      "outputs": [
        {
          "output_type": "execute_result",
          "data": {
            "text/plain": [
              "0.1379749216970851"
            ]
          },
          "metadata": {
            "tags": []
          },
          "execution_count": 285
        }
      ]
    },
    {
      "cell_type": "code",
      "metadata": {
        "id": "QMumbUohAwl5"
      },
      "source": [
        "#Helper Functions¶\n",
        "\n",
        "def sigmoid(x):\n",
        "    return 1 / (1 + np.exp(-x))\n",
        "\n",
        "def mean_squared_error(predictions, labels):\n",
        "    N = labels.size\n",
        "    mse = ((predictions - labels)**2).sum() / (2*N)\n",
        "    \n",
        "    return mse\n",
        "\n",
        "def accuracy(predictions, labels):\n",
        "    predicions_correct = predictions.argmax(axis=1) == labels.argmax(axis=1)\n",
        "    accuracy = predicions_correct.mean()\n",
        "    \n",
        "    return accuracy"
      ],
      "execution_count": 286,
      "outputs": []
    },
    {
      "cell_type": "code",
      "metadata": {
        "id": "wHezn0dsAmKv",
        "colab": {
          "base_uri": "https://localhost:8080/",
          "height": 419
        },
        "outputId": "bbf3fd55-88f1-48ca-c097-6a7105fc2f1d"
      },
      "source": [
        "# this is based on iteration (epoch)\n",
        "#1. Training Attempt\n",
        "# hyperparameters\n",
        "learning_rate = 0.1\n",
        "epochs = 1000\n",
        "\n",
        "n_input = 4\n",
        "n_hidden = 2\n",
        "n_output = 3\n",
        "\n",
        "np.random.seed(10)\n",
        "weights_1 = np.random.normal(scale=0.5, size=(n_input, n_hidden))   # (4, 2)\n",
        "weights_2 = np.random.normal(scale=0.5, size=(n_hidden, n_output))  # (2, 3)\n",
        "\n",
        "# training the neural net\n",
        "monitoring = {\"mean_squared_error\": [], \"accuracy\": []}\n",
        "for epoch in range(epochs):    \n",
        "    \n",
        "    # feedforward\n",
        "    hidden_layer_inputs = np.dot(x, weights_1)\n",
        "    hidden_layer_outputs = sigmoid(hidden_layer_inputs)\n",
        "\n",
        "    output_layer_inputs = np.dot(hidden_layer_outputs, weights_2)\n",
        "    output_layer_outputs = sigmoid(output_layer_inputs)\n",
        "    \n",
        "    \n",
        "    # monitor training process\n",
        "    mse = mean_squared_error(output_layer_outputs, y)\n",
        "    acc = accuracy(output_layer_outputs, y)\n",
        "    \n",
        "    monitoring[\"mean_squared_error\"].append(mse)\n",
        "    monitoring[\"accuracy\"].append(acc)\n",
        "    \n",
        "    \n",
        "    # backpropagation\n",
        "    output_layer_error = output_layer_outputs - y\n",
        "    output_layer_delta = output_layer_error * output_layer_outputs * (1 - output_layer_outputs)\n",
        "\n",
        "    hidden_layer_error = np.dot(output_layer_delta, weights_2.T)\n",
        "    hidden_layer_delta = hidden_layer_error * hidden_layer_outputs * (1 - hidden_layer_outputs)\n",
        "\n",
        "    \n",
        "    # weight updates\n",
        "    weights_2_update = np.dot(hidden_layer_outputs.T, output_layer_delta) / N\n",
        "    weights_1_update = np.dot(x.T, hidden_layer_delta) / N\n",
        "\n",
        "    weights_2 = weights_2 - learning_rate * weights_2_update\n",
        "    weights_1 = weights_1 - learning_rate * weights_1_update\n",
        "\n",
        "monitoring_df = pd.DataFrame(monitoring)\n",
        "monitoring_df.head(1000)\n"
      ],
      "execution_count": 290,
      "outputs": [
        {
          "output_type": "execute_result",
          "data": {
            "text/html": [
              "<div>\n",
              "<style scoped>\n",
              "    .dataframe tbody tr th:only-of-type {\n",
              "        vertical-align: middle;\n",
              "    }\n",
              "\n",
              "    .dataframe tbody tr th {\n",
              "        vertical-align: top;\n",
              "    }\n",
              "\n",
              "    .dataframe thead th {\n",
              "        text-align: right;\n",
              "    }\n",
              "</style>\n",
              "<table border=\"1\" class=\"dataframe\">\n",
              "  <thead>\n",
              "    <tr style=\"text-align: right;\">\n",
              "      <th></th>\n",
              "      <th>mean_squared_error</th>\n",
              "      <th>accuracy</th>\n",
              "    </tr>\n",
              "  </thead>\n",
              "  <tbody>\n",
              "    <tr>\n",
              "      <th>0</th>\n",
              "      <td>0.138311</td>\n",
              "      <td>0.333333</td>\n",
              "    </tr>\n",
              "    <tr>\n",
              "      <th>1</th>\n",
              "      <td>0.137975</td>\n",
              "      <td>0.333333</td>\n",
              "    </tr>\n",
              "    <tr>\n",
              "      <th>2</th>\n",
              "      <td>0.137638</td>\n",
              "      <td>0.333333</td>\n",
              "    </tr>\n",
              "    <tr>\n",
              "      <th>3</th>\n",
              "      <td>0.137302</td>\n",
              "      <td>0.333333</td>\n",
              "    </tr>\n",
              "    <tr>\n",
              "      <th>4</th>\n",
              "      <td>0.136966</td>\n",
              "      <td>0.333333</td>\n",
              "    </tr>\n",
              "    <tr>\n",
              "      <th>...</th>\n",
              "      <td>...</td>\n",
              "      <td>...</td>\n",
              "    </tr>\n",
              "    <tr>\n",
              "      <th>995</th>\n",
              "      <td>0.095202</td>\n",
              "      <td>0.666667</td>\n",
              "    </tr>\n",
              "    <tr>\n",
              "      <th>996</th>\n",
              "      <td>0.095177</td>\n",
              "      <td>0.666667</td>\n",
              "    </tr>\n",
              "    <tr>\n",
              "      <th>997</th>\n",
              "      <td>0.095152</td>\n",
              "      <td>0.666667</td>\n",
              "    </tr>\n",
              "    <tr>\n",
              "      <th>998</th>\n",
              "      <td>0.095127</td>\n",
              "      <td>0.666667</td>\n",
              "    </tr>\n",
              "    <tr>\n",
              "      <th>999</th>\n",
              "      <td>0.095103</td>\n",
              "      <td>0.666667</td>\n",
              "    </tr>\n",
              "  </tbody>\n",
              "</table>\n",
              "<p>1000 rows × 2 columns</p>\n",
              "</div>"
            ],
            "text/plain": [
              "     mean_squared_error  accuracy\n",
              "0              0.138311  0.333333\n",
              "1              0.137975  0.333333\n",
              "2              0.137638  0.333333\n",
              "3              0.137302  0.333333\n",
              "4              0.136966  0.333333\n",
              "..                  ...       ...\n",
              "995            0.095202  0.666667\n",
              "996            0.095177  0.666667\n",
              "997            0.095152  0.666667\n",
              "998            0.095127  0.666667\n",
              "999            0.095103  0.666667\n",
              "\n",
              "[1000 rows x 2 columns]"
            ]
          },
          "metadata": {
            "tags": []
          },
          "execution_count": 290
        }
      ]
    },
    {
      "cell_type": "code",
      "metadata": {
        "colab": {
          "base_uri": "https://localhost:8080/",
          "height": 336
        },
        "id": "v34jQNSDBWa3",
        "outputId": "bc2ddf09-dd36-41d1-d22d-c96a6b0f2d95"
      },
      "source": [
        "# this is showing the graph of MSE and the Accuracy\n",
        "fig, axes = plt.subplots(1, 2, figsize=(15,5))\n",
        "\n",
        "monitoring_df.mean_squared_error.plot(ax=axes[0], title=\"Mean Squared Error\")\n",
        "monitoring_df.accuracy.plot(ax=axes[1], title=\"Accuracy\");"
      ],
      "execution_count": 291,
      "outputs": [
        {
          "output_type": "display_data",
          "data": {
            "image/png": "[encoded data removed]",
            "text/plain": [
              "<Figure size 1080x360 with 2 Axes>"
            ]
          },
          "metadata": {
            "tags": [],
            "needs_background": "light"
          }
        }
      ]
    },
    {
      "cell_type": "markdown",
      "metadata": {
        "id": "uk3SByHEIlDS"
      },
      "source": [
        "Result of 1 epoch:\n",
        "---\n",
        "According the mse output it shown the small level of update in the loss function but we will need to more minimum that predict more accurately.\n",
        "\n",
        "We need the MSE zero or close to the zero so this can be give the correct prediction according to the given feature and the NN parameters"
      ]
    },
    {
      "cell_type": "markdown",
      "metadata": {
        "id": "ou81dLPdsrd6"
      },
      "source": [
        "Gradient Decent:\n",
        "---\n"
      ]
    },
    {
      "cell_type": "code",
      "metadata": {
        "id": "fUGDgAaimM5z"
      },
      "source": [
        "def f(x):\n",
        "    return x**2\n",
        "\n",
        "def f_prime(x):\n",
        "    return 2 * x\n",
        "x = np.arange(-10, 10.01, 0.01)\n",
        "df = pd.DataFrame({\"y\": f(x)}, index=x)"
      ],
      "execution_count": 267,
      "outputs": []
    },
    {
      "cell_type": "code",
      "metadata": {
        "id": "cJC-tF_X2pNm"
      },
      "source": [
        " # gradient descent steps\n",
        "starting_x=mse_output\n",
        "n_gradient_descent_steps =10\n",
        "learning_rate=0.02\n",
        "\n",
        "steps = [starting_x]\n",
        "for step in range(n_gradient_descent_steps):\n",
        "  current_step = steps[-1]\n",
        "  next_step = current_step - learning_rate * f_prime(current_step)\n",
        "  steps.append(next_step)\n",
        "\n",
        "steps = np.array(steps)\n",
        "last_step = round(steps[-1], ndigits=2)\n",
        "df_gradient_descent = pd.DataFrame({\"y\": f(steps)})\n",
        "df_gradient_descent"
      ],
      "execution_count": null,
      "outputs": []
    },
    {
      "cell_type": "code",
      "metadata": {
        "id": "Ucb9HL6k4MfV",
        "colab": {
          "base_uri": "https://localhost:8080/"
        },
        "outputId": "f0706687-40c7-4b40-f1d5-3ca546a6ebd0"
      },
      "source": [
        "steps"
      ],
      "execution_count": 269,
      "outputs": [
        {
          "output_type": "execute_result",
          "data": {
            "text/plain": [
              "array([0.13797492, 0.13245592, 0.12715769, 0.12207138, 0.11718853,\n",
              "       0.11250098, 0.10800094, 0.10368091, 0.09953367, 0.09555232,\n",
              "       0.09173023])"
            ]
          },
          "metadata": {
            "tags": []
          },
          "execution_count": 269
        }
      ]
    },
    {
      "cell_type": "code",
      "metadata": {
        "id": "0wZeKKCnmj0d"
      },
      "source": [
        "def plot_gradient_descent(starting_x, learning_rate, n_gradient_descent_steps):\n",
        "\n",
        "    # gradient descent steps\n",
        "    steps = [starting_x]\n",
        "    for step in range(n_gradient_descent_steps):\n",
        "        current_step = steps[-1]\n",
        "        next_step = current_step - learning_rate * f_prime(current_step)\n",
        "        steps.append(next_step)\n",
        "\n",
        "    steps = np.array(steps)\n",
        "    last_step = round(steps[-1], ndigits=2)\n",
        "    df_gradient_descent = pd.DataFrame({\"y\": f(steps)})\n",
        "\n",
        "    # plots\n",
        "    fig, axes = plt.subplots(1, 2, figsize=(20, 6))\n",
        "    plot_1, plot_2 = axes\n",
        "\n",
        "    df.plot(legend=False, ax=plot_1)\n",
        "    plot_1.plot(steps, f(steps), linestyle='--', marker='o', color='k')\n",
        "    plot_1.set_xlabel(\"x\")\n",
        "    plot_1.set_ylabel(\"f(x)\")\n",
        "    plot_1.set_title(\"f(x) = x²\", fontsize=16)\n",
        "    plot_1.annotate(\"learning rate = {}\".format(learning_rate), (-2, 90), fontsize=14)\n",
        "    plot_1.annotate(f\"Value of x at the last step: {last_step}\", (-4, 85), fontsize=14)\n",
        "\n",
        "    df_gradient_descent.plot(legend=False, ax=plot_2)\n",
        "    plot_2.set_ylabel(\"f(x)\")\n",
        "    plot_2.set_xlabel(\"Gradient Descent Step\")\n",
        "    plot_2.set_title(\"f(x) based on Gradient Descent Steps\", fontsize=16)\n",
        "    plot_2.annotate(\"learning rate = {}\".format(learning_rate), (len(steps) / 2, f(steps[1])), fontsize=14)\n",
        "    \n",
        "    return"
      ],
      "execution_count": null,
      "outputs": []
    },
    {
      "cell_type": "code",
      "metadata": {
        "colab": {
          "base_uri": "https://localhost:8080/",
          "height": 406
        },
        "id": "MaPYXpR2mq7R",
        "outputId": "d1540229-cf88-49b5-8050-6308cc0fe36b"
      },
      "source": [
        "plot_gradient_descent(mse_output, learning_rate=0.1, n_gradient_descent_steps=5)\n"
      ],
      "execution_count": null,
      "outputs": [
        {
          "output_type": "display_data",
          "data": {
            "image/png": "[encoded data removed]",
            "text/plain": [
              "<Figure size 1440x432 with 2 Axes>"
            ]
          },
          "metadata": {
            "tags": [],
            "needs_background": "light"
          }
        }
      ]
    }
  ]
}